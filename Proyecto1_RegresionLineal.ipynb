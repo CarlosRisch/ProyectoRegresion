{
 "cells": [
  {
   "cell_type": "markdown",
   "id": "2b697714-9fb4-4946-b249-de88ecb3f49c",
   "metadata": {},
   "source": [
    "# Ciencia de Datos en Python\n",
    "## Proyecto #1\n",
    "### Regresión Lineal Uni-Variable"
   ]
  },
  {
   "cell_type": "code",
   "execution_count": 2,
   "id": "38704523-21d0-4a23-9b7f-e9c17710b49b",
   "metadata": {},
   "outputs": [],
   "source": [
    "# importo las librerías necesarias para realizar el proyecto\n",
    "\n",
    "import numpy as np\n",
    "import pandas as pd\n",
    "import matplotlib.pyplot as plt\n",
    "import seaborn as sns\n",
    "import sklearn as sk"
   ]
  },
  {
   "cell_type": "code",
   "execution_count": 4,
   "id": "2aa5fd96-f767-48ae-8a79-61f06eac0f5e",
   "metadata": {},
   "outputs": [],
   "source": [
    "# Cargo los datos del csv usando numpy\n",
    "datos = np.load('C:/Users/risca/Desktop/Maestria Ciencia de Datos/Ciencia de datos en Python/Ciencia_de_Datos_Python/U/Proyecto1/proyecto_training_data.npy')"
   ]
  },
  {
   "cell_type": "code",
   "execution_count": 8,
   "id": "567044b3-058a-4013-8690-94f7649cc120",
   "metadata": {},
   "outputs": [
    {
     "data": {
      "text/html": [
       "<div>\n",
       "<style scoped>\n",
       "    .dataframe tbody tr th:only-of-type {\n",
       "        vertical-align: middle;\n",
       "    }\n",
       "\n",
       "    .dataframe tbody tr th {\n",
       "        vertical-align: top;\n",
       "    }\n",
       "\n",
       "    .dataframe thead th {\n",
       "        text-align: right;\n",
       "    }\n",
       "</style>\n",
       "<table border=\"1\" class=\"dataframe\">\n",
       "  <thead>\n",
       "    <tr style=\"text-align: right;\">\n",
       "      <th></th>\n",
       "      <th>0</th>\n",
       "      <th>1</th>\n",
       "      <th>2</th>\n",
       "      <th>3</th>\n",
       "      <th>4</th>\n",
       "      <th>5</th>\n",
       "    </tr>\n",
       "  </thead>\n",
       "  <tbody>\n",
       "    <tr>\n",
       "      <th>0</th>\n",
       "      <td>208500.0</td>\n",
       "      <td>7.0</td>\n",
       "      <td>856.0</td>\n",
       "      <td>8.0</td>\n",
       "      <td>2003.0</td>\n",
       "      <td>65.0</td>\n",
       "    </tr>\n",
       "    <tr>\n",
       "      <th>1</th>\n",
       "      <td>181500.0</td>\n",
       "      <td>6.0</td>\n",
       "      <td>1262.0</td>\n",
       "      <td>6.0</td>\n",
       "      <td>1976.0</td>\n",
       "      <td>80.0</td>\n",
       "    </tr>\n",
       "    <tr>\n",
       "      <th>2</th>\n",
       "      <td>223500.0</td>\n",
       "      <td>7.0</td>\n",
       "      <td>920.0</td>\n",
       "      <td>6.0</td>\n",
       "      <td>2001.0</td>\n",
       "      <td>68.0</td>\n",
       "    </tr>\n",
       "    <tr>\n",
       "      <th>3</th>\n",
       "      <td>140000.0</td>\n",
       "      <td>7.0</td>\n",
       "      <td>961.0</td>\n",
       "      <td>7.0</td>\n",
       "      <td>1915.0</td>\n",
       "      <td>60.0</td>\n",
       "    </tr>\n",
       "    <tr>\n",
       "      <th>4</th>\n",
       "      <td>250000.0</td>\n",
       "      <td>8.0</td>\n",
       "      <td>1145.0</td>\n",
       "      <td>9.0</td>\n",
       "      <td>2000.0</td>\n",
       "      <td>84.0</td>\n",
       "    </tr>\n",
       "  </tbody>\n",
       "</table>\n",
       "</div>"
      ],
      "text/plain": [
       "          0    1       2    3       4     5\n",
       "0  208500.0  7.0   856.0  8.0  2003.0  65.0\n",
       "1  181500.0  6.0  1262.0  6.0  1976.0  80.0\n",
       "2  223500.0  7.0   920.0  6.0  2001.0  68.0\n",
       "3  140000.0  7.0   961.0  7.0  1915.0  60.0\n",
       "4  250000.0  8.0  1145.0  9.0  2000.0  84.0"
      ]
     },
     "execution_count": 8,
     "metadata": {},
     "output_type": "execute_result"
    }
   ],
   "source": [
    "df_datos = pd.DataFrame(datos)\n",
    "df_datos.head()"
   ]
  },
  {
   "cell_type": "code",
   "execution_count": 9,
   "id": "c62ecf76-0756-4cf2-835e-0b2b561f7ff5",
   "metadata": {},
   "outputs": [
    {
     "name": "stdout",
     "output_type": "stream",
     "text": [
      "<class 'pandas.core.frame.DataFrame'>\n",
      "RangeIndex: 1460 entries, 0 to 1459\n",
      "Data columns (total 6 columns):\n",
      " #   Column  Non-Null Count  Dtype  \n",
      "---  ------  --------------  -----  \n",
      " 0   0       1460 non-null   float64\n",
      " 1   1       1460 non-null   float64\n",
      " 2   2       1460 non-null   float64\n",
      " 3   3       1460 non-null   float64\n",
      " 4   4       1460 non-null   float64\n",
      " 5   5       1201 non-null   float64\n",
      "dtypes: float64(6)\n",
      "memory usage: 68.6 KB\n"
     ]
    }
   ],
   "source": [
    "df_datos.info()"
   ]
  },
  {
   "cell_type": "code",
   "execution_count": 10,
   "id": "bd08f5da-7ac0-4f2e-9c1f-b65516feabe7",
   "metadata": {},
   "outputs": [],
   "source": [
    "# Le agrego los nombres a las columnas\n",
    "nombre_columnas = ['SalePrice', 'OverallQual', '1stFlrSF', 'TotRmsAbvGrd', 'YearBuilt', 'LotFrontage']\n",
    "df_datos.columns = nombre_columnas"
   ]
  },
  {
   "cell_type": "code",
   "execution_count": 11,
   "id": "41f0b467-aba2-4e17-9be2-7d5dc9ce00f8",
   "metadata": {},
   "outputs": [
    {
     "data": {
      "text/html": [
       "<div>\n",
       "<style scoped>\n",
       "    .dataframe tbody tr th:only-of-type {\n",
       "        vertical-align: middle;\n",
       "    }\n",
       "\n",
       "    .dataframe tbody tr th {\n",
       "        vertical-align: top;\n",
       "    }\n",
       "\n",
       "    .dataframe thead th {\n",
       "        text-align: right;\n",
       "    }\n",
       "</style>\n",
       "<table border=\"1\" class=\"dataframe\">\n",
       "  <thead>\n",
       "    <tr style=\"text-align: right;\">\n",
       "      <th></th>\n",
       "      <th>SalePrice</th>\n",
       "      <th>OverallQual</th>\n",
       "      <th>1stFlrSF</th>\n",
       "      <th>TotRmsAbvGrd</th>\n",
       "      <th>YearBuilt</th>\n",
       "      <th>LotFrontage</th>\n",
       "    </tr>\n",
       "  </thead>\n",
       "  <tbody>\n",
       "    <tr>\n",
       "      <th>0</th>\n",
       "      <td>208500.0</td>\n",
       "      <td>7.0</td>\n",
       "      <td>856.0</td>\n",
       "      <td>8.0</td>\n",
       "      <td>2003.0</td>\n",
       "      <td>65.0</td>\n",
       "    </tr>\n",
       "    <tr>\n",
       "      <th>1</th>\n",
       "      <td>181500.0</td>\n",
       "      <td>6.0</td>\n",
       "      <td>1262.0</td>\n",
       "      <td>6.0</td>\n",
       "      <td>1976.0</td>\n",
       "      <td>80.0</td>\n",
       "    </tr>\n",
       "    <tr>\n",
       "      <th>2</th>\n",
       "      <td>223500.0</td>\n",
       "      <td>7.0</td>\n",
       "      <td>920.0</td>\n",
       "      <td>6.0</td>\n",
       "      <td>2001.0</td>\n",
       "      <td>68.0</td>\n",
       "    </tr>\n",
       "    <tr>\n",
       "      <th>3</th>\n",
       "      <td>140000.0</td>\n",
       "      <td>7.0</td>\n",
       "      <td>961.0</td>\n",
       "      <td>7.0</td>\n",
       "      <td>1915.0</td>\n",
       "      <td>60.0</td>\n",
       "    </tr>\n",
       "    <tr>\n",
       "      <th>4</th>\n",
       "      <td>250000.0</td>\n",
       "      <td>8.0</td>\n",
       "      <td>1145.0</td>\n",
       "      <td>9.0</td>\n",
       "      <td>2000.0</td>\n",
       "      <td>84.0</td>\n",
       "    </tr>\n",
       "    <tr>\n",
       "      <th>...</th>\n",
       "      <td>...</td>\n",
       "      <td>...</td>\n",
       "      <td>...</td>\n",
       "      <td>...</td>\n",
       "      <td>...</td>\n",
       "      <td>...</td>\n",
       "    </tr>\n",
       "    <tr>\n",
       "      <th>1455</th>\n",
       "      <td>175000.0</td>\n",
       "      <td>6.0</td>\n",
       "      <td>953.0</td>\n",
       "      <td>7.0</td>\n",
       "      <td>1999.0</td>\n",
       "      <td>62.0</td>\n",
       "    </tr>\n",
       "    <tr>\n",
       "      <th>1456</th>\n",
       "      <td>210000.0</td>\n",
       "      <td>6.0</td>\n",
       "      <td>2073.0</td>\n",
       "      <td>7.0</td>\n",
       "      <td>1978.0</td>\n",
       "      <td>85.0</td>\n",
       "    </tr>\n",
       "    <tr>\n",
       "      <th>1457</th>\n",
       "      <td>266500.0</td>\n",
       "      <td>7.0</td>\n",
       "      <td>1188.0</td>\n",
       "      <td>9.0</td>\n",
       "      <td>1941.0</td>\n",
       "      <td>66.0</td>\n",
       "    </tr>\n",
       "    <tr>\n",
       "      <th>1458</th>\n",
       "      <td>142125.0</td>\n",
       "      <td>5.0</td>\n",
       "      <td>1078.0</td>\n",
       "      <td>5.0</td>\n",
       "      <td>1950.0</td>\n",
       "      <td>68.0</td>\n",
       "    </tr>\n",
       "    <tr>\n",
       "      <th>1459</th>\n",
       "      <td>147500.0</td>\n",
       "      <td>5.0</td>\n",
       "      <td>1256.0</td>\n",
       "      <td>6.0</td>\n",
       "      <td>1965.0</td>\n",
       "      <td>75.0</td>\n",
       "    </tr>\n",
       "  </tbody>\n",
       "</table>\n",
       "<p>1460 rows × 6 columns</p>\n",
       "</div>"
      ],
      "text/plain": [
       "      SalePrice  OverallQual  1stFlrSF  TotRmsAbvGrd  YearBuilt  LotFrontage\n",
       "0      208500.0          7.0     856.0           8.0     2003.0         65.0\n",
       "1      181500.0          6.0    1262.0           6.0     1976.0         80.0\n",
       "2      223500.0          7.0     920.0           6.0     2001.0         68.0\n",
       "3      140000.0          7.0     961.0           7.0     1915.0         60.0\n",
       "4      250000.0          8.0    1145.0           9.0     2000.0         84.0\n",
       "...         ...          ...       ...           ...        ...          ...\n",
       "1455   175000.0          6.0     953.0           7.0     1999.0         62.0\n",
       "1456   210000.0          6.0    2073.0           7.0     1978.0         85.0\n",
       "1457   266500.0          7.0    1188.0           9.0     1941.0         66.0\n",
       "1458   142125.0          5.0    1078.0           5.0     1950.0         68.0\n",
       "1459   147500.0          5.0    1256.0           6.0     1965.0         75.0\n",
       "\n",
       "[1460 rows x 6 columns]"
      ]
     },
     "execution_count": 11,
     "metadata": {},
     "output_type": "execute_result"
    }
   ],
   "source": [
    "df_datos"
   ]
  },
  {
   "cell_type": "code",
   "execution_count": 13,
   "id": "eb33de78-fed3-4391-8a1c-842a8240cdca",
   "metadata": {},
   "outputs": [
    {
     "name": "stdout",
     "output_type": "stream",
     "text": [
      "Initialized empty Git repository in C:/Users/risca/Desktop/Maestria Ciencia de Datos/Ciencia de datos en Python/Ciencia_de_Datos_Python/U/Proyecto1/.git/\n"
     ]
    }
   ],
   "source": [
    "!git init"
   ]
  },
  {
   "cell_type": "code",
   "execution_count": 14,
   "id": "29937f1d-9c36-436f-a644-5ec31954b0a6",
   "metadata": {},
   "outputs": [
    {
     "name": "stderr",
     "output_type": "stream",
     "text": [
      "warning: LF will be replaced by CRLF in Proyecto1_RegresionLineal.ipynb.\n",
      "The file will have its original line endings in your working directory\n"
     ]
    }
   ],
   "source": [
    "!git add Proyecto1_RegresionLineal.ipynb"
   ]
  },
  {
   "cell_type": "code",
   "execution_count": 15,
   "id": "f47e21af-ea07-4ef2-9307-30a175cc65aa",
   "metadata": {},
   "outputs": [
    {
     "name": "stdout",
     "output_type": "stream",
     "text": [
      "On branch master\n",
      "\n",
      "No commits yet\n",
      "\n",
      "Changes to be committed:\n",
      "  (use \"git rm --cached <file>...\" to unstage)\n",
      "\tnew file:   Proyecto1_RegresionLineal.ipynb\n",
      "\n",
      "Untracked files:\n",
      "  (use \"git add <file>...\" to include in what will be committed)\n",
      "\t.ipynb_checkpoints/\n",
      "\tData fields.txt\n",
      "\tproyecto_training_data.npy\n",
      "\n"
     ]
    }
   ],
   "source": [
    "!git status"
   ]
  },
  {
   "cell_type": "code",
   "execution_count": 16,
   "id": "501dc043-c104-41bc-890e-28bcfc95da80",
   "metadata": {},
   "outputs": [
    {
     "name": "stdout",
     "output_type": "stream",
     "text": [
      "[master (root-commit) 97a9e48] Primer commit del proyecto1 de regresion lineal uni-variable\n",
      " 1 file changed, 400 insertions(+)\n",
      " create mode 100644 Proyecto1_RegresionLineal.ipynb\n"
     ]
    }
   ],
   "source": [
    "!git commit -m \"Primer commit del proyecto1 de regresion lineal uni-variable\""
   ]
  },
  {
   "cell_type": "code",
   "execution_count": 18,
   "id": "9366419f-2625-454a-b5ab-e9d6f119f6a7",
   "metadata": {},
   "outputs": [],
   "source": [
    "!git branch -M main"
   ]
  },
  {
   "cell_type": "code",
   "execution_count": 20,
   "id": "45553308-e37b-46f9-83e9-293ba071ce7f",
   "metadata": {},
   "outputs": [],
   "source": [
    "!git remote add origin https://github.com/CarlosRisch/ProyectoRegresion.git"
   ]
  },
  {
   "cell_type": "code",
   "execution_count": 21,
   "id": "bea622d8-cde4-4bfc-9ee2-2b82c6ee3d26",
   "metadata": {},
   "outputs": [
    {
     "name": "stdout",
     "output_type": "stream",
     "text": [
      "On branch main\n",
      "Changes not staged for commit:\n",
      "  (use \"git add <file>...\" to update what will be committed)\n",
      "  (use \"git restore <file>...\" to discard changes in working directory)\n",
      "\tmodified:   Proyecto1_RegresionLineal.ipynb\n",
      "\n",
      "Untracked files:\n",
      "  (use \"git add <file>...\" to include in what will be committed)\n",
      "\t.ipynb_checkpoints/\n",
      "\tData fields.txt\n",
      "\tproyecto_training_data.npy\n",
      "\n",
      "no changes added to commit (use \"git add\" and/or \"git commit -a\")\n"
     ]
    }
   ],
   "source": [
    "!git status"
   ]
  },
  {
   "cell_type": "code",
   "execution_count": 22,
   "id": "09b118c9-908d-4d0a-87b8-7bfbf82a880b",
   "metadata": {},
   "outputs": [
    {
     "name": "stdout",
     "output_type": "stream",
     "text": [
      "Branch 'main' set up to track remote branch 'main' from 'origin'.\n"
     ]
    },
    {
     "name": "stderr",
     "output_type": "stream",
     "text": [
      "To https://github.com/CarlosRisch/ProyectoRegresion.git\n",
      " * [new branch]      main -> main\n"
     ]
    }
   ],
   "source": [
    "!git push -u origin main"
   ]
  },
  {
   "cell_type": "markdown",
   "id": "72c0d441-fe22-403c-966d-74371935c69c",
   "metadata": {},
   "source": [
    "## 2 Definimos los sets de Entrenamiento (80%), de Pruebas y validación(20%) como DataFrames usando Slicing"
   ]
  },
  {
   "cell_type": "code",
   "execution_count": 14,
   "id": "0f39dd51-6a06-4fa5-b9a4-3a1c1b11f937",
   "metadata": {},
   "outputs": [],
   "source": [
    "# Set para entrenamiento 80%\n",
    "set_entrenamiento = pd.DataFrame(datos[:int(len(datos) * 0.8)], columns = nombre_columnas)\n",
    "\n",
    "# Set para Pruebas y Validación 20%\n",
    "set_pruebas = pd.DataFrame(datos[int(len(datos) * 0.8):], columns = nombre_columnas)\n"
   ]
  },
  {
   "cell_type": "code",
   "execution_count": 15,
   "id": "3f1ae6f7-ee95-46d0-9cb3-18bf47c2f605",
   "metadata": {},
   "outputs": [
    {
     "name": "stdout",
     "output_type": "stream",
     "text": [
      "      SalePrice  OverallQual  1stFlrSF  TotRmsAbvGrd  YearBuilt  LotFrontage\n",
      "0      208500.0          7.0     856.0           8.0     2003.0         65.0\n",
      "1      181500.0          6.0    1262.0           6.0     1976.0         80.0\n",
      "2      223500.0          7.0     920.0           6.0     2001.0         68.0\n",
      "3      140000.0          7.0     961.0           7.0     1915.0         60.0\n",
      "4      250000.0          8.0    1145.0           9.0     2000.0         84.0\n",
      "...         ...          ...       ...           ...        ...          ...\n",
      "1163   108959.0          4.0    1258.0           6.0     1969.0         60.0\n",
      "1164   194000.0          5.0    1432.0           5.0     1978.0          NaN\n",
      "1165   233170.0          7.0    1502.0           7.0     2009.0         79.0\n",
      "1166   245350.0          8.0    1694.0           7.0     2008.0         64.0\n",
      "1167   173000.0          6.0     959.0           7.0     2000.0         58.0\n",
      "\n",
      "[1168 rows x 6 columns]\n"
     ]
    }
   ],
   "source": [
    "print(set_entrenamiento)"
   ]
  },
  {
   "cell_type": "code",
   "execution_count": 16,
   "id": "6a6ba8f0-eced-4678-a96b-8b2bc9d35c2a",
   "metadata": {},
   "outputs": [
    {
     "name": "stdout",
     "output_type": "stream",
     "text": [
      "     SalePrice  OverallQual  1stFlrSF  TotRmsAbvGrd  YearBuilt  LotFrontage\n",
      "0     235000.0          6.0    1236.0           7.0     1935.0        120.0\n",
      "1     625000.0         10.0    1831.0          10.0     1995.0        118.0\n",
      "2     171000.0          6.0    1118.0           6.0     1977.0         76.0\n",
      "3     163000.0          6.0    1261.0           6.0     1958.0         76.0\n",
      "4     171900.0          7.0     625.0           5.0     2006.0         35.0\n",
      "..         ...          ...       ...           ...        ...          ...\n",
      "287   175000.0          6.0     953.0           7.0     1999.0         62.0\n",
      "288   210000.0          6.0    2073.0           7.0     1978.0         85.0\n",
      "289   266500.0          7.0    1188.0           9.0     1941.0         66.0\n",
      "290   142125.0          5.0    1078.0           5.0     1950.0         68.0\n",
      "291   147500.0          5.0    1256.0           6.0     1965.0         75.0\n",
      "\n",
      "[292 rows x 6 columns]\n"
     ]
    }
   ],
   "source": [
    "print(set_pruebas)"
   ]
  },
  {
   "cell_type": "markdown",
   "id": "ca01b24e-938a-46d7-a04e-8566f438401f",
   "metadata": {},
   "source": [
    "## 3. Análisis exploratorio de datos: Para cada variable en el dataset calcular((usando numpy o pandas):\n",
    "#### media\n",
    "#### valor máximo\n",
    "#### valor mínimo\n",
    "#### rango(peak to peak, no el rango del tensor que por ser vector sabemos que es 1)\n",
    "#### desviación estándar.\n"
   ]
  },
  {
   "cell_type": "code",
   "execution_count": 17,
   "id": "4adae86f-543f-4ba0-9bcd-416f8eba78e3",
   "metadata": {},
   "outputs": [
    {
     "name": "stdout",
     "output_type": "stream",
     "text": [
      "La media para cada variable del dataset de entrenamiento es: [1.80590277e+05 6.10102740e+00 1.15632363e+03 6.48544521e+00\n",
      " 1.97145120e+03 6.99469854e+01]\n",
      "El Valor máximo para cada variable del dataset de entrenamiento es: [7.550e+05 1.000e+01 3.228e+03 1.400e+01 2.010e+03 3.130e+02]\n",
      "El Valor mínimo cada variable del dataset de entrenamiento es: [3.490e+04 1.000e+00 3.340e+02 2.000e+00 1.875e+03 2.100e+01]\n",
      "El rango peak to peak para cada variable del dataset de entrenamiento es: [7.201e+05 9.000e+00 2.894e+03 1.200e+01 1.350e+02 2.920e+02]\n",
      "La desviación estándar para cada variable del dataset de entrenamiento es: [7.87819511e+04 1.37743519e+00 3.73620332e+02 1.60845172e+00\n",
      " 2.99388821e+01 2.34659548e+01]\n"
     ]
    }
   ],
   "source": [
    "# obtenemos la media, valor maximo, valor minimo, rango peak to peak y la desviación estandar del set de entrenamiento\n",
    "# utilizamos las funciones nan para los diferentes cálculos, de tal manera que ignoramos los valores NAN, y así no afecta en los cálculos\n",
    "# el rango peak to peak lo obtemos restando el valor minimo del valor maximo\n",
    "\n",
    "media = np.nanmean(set_entrenamiento, axis=0)\n",
    "valor_maximo = np.nanmax(set_entrenamiento, axis=0)\n",
    "valor_minimo = np.nanmin(set_entrenamiento, axis=0)\n",
    "rango_peak_to_peak = valor_maximo - valor_minimo\n",
    "desviacion_estandar = np.nanstd(set_entrenamiento, axis=0)\n",
    "\n",
    "print(f'La media para cada variable del dataset de entrenamiento es: {media}')\n",
    "print(f'El Valor máximo para cada variable del dataset de entrenamiento es: {valor_maximo}')\n",
    "print(f'El Valor mínimo cada variable del dataset de entrenamiento es: {valor_minimo}')\n",
    "print(f'El rango peak to peak para cada variable del dataset de entrenamiento es: {rango_peak_to_peak}')\n",
    "print(f'La desviación estándar para cada variable del dataset de entrenamiento es: {desviacion_estandar}')"
   ]
  },
  {
   "cell_type": "markdown",
   "id": "be173f6f-ff39-493c-a437-1f34e5e8fea4",
   "metadata": {},
   "source": [
    "## 4. Para cada variable en el dataset usar seaborn(funcion distplot https://seaborn.pydata.org/generated/seaborn.distplot.html) para graficar un histograma de la variable"
   ]
  },
  {
   "cell_type": "code",
   "execution_count": 20,
   "id": "fa13ab03-05f2-4669-96a0-4885eb11039d",
   "metadata": {},
   "outputs": [
    {
     "name": "stderr",
     "output_type": "stream",
     "text": [
      "C:\\Users\\risca\\AppData\\Local\\Temp\\ipykernel_116592\\1749370956.py:6: UserWarning: \n",
      "\n",
      "`distplot` is a deprecated function and will be removed in seaborn v0.14.0.\n",
      "\n",
      "Please adapt your code to use either `displot` (a figure-level function with\n",
      "similar flexibility) or `histplot` (an axes-level function for histograms).\n",
      "\n",
      "For a guide to updating your code to use the new functions, please see\n",
      "https://gist.github.com/mwaskom/de44147ed2974457ad6372750bbe5751\n",
      "\n",
      "  sns.distplot(set_entrenamiento.iloc[:,i], kde=False, bins=15, ax=axes[i//2, i%2])\n"
     ]
    },
    {
     "data": {
      "text/plain": [
       "<function matplotlib.pyplot.show(close=None, block=None)>"
      ]
     },
     "execution_count": 20,
     "metadata": {},
     "output_type": "execute_result"
    },
    {
     "data": {
      "image/png": "[encoded data removed]",
      "text/plain": [
       "<Figure size 2500x2500 with 6 Axes>"
      ]
     },
     "metadata": {},
     "output_type": "display_data"
    }
   ],
   "source": [
    "# Utilizamos Seaborn para realizar el histograma por cada variable del set de entrenamiento\n",
    "fig, axes = plt.subplots(figsize=(25,25), nrows=3, ncols=2)\n",
    "sns.set_theme()\n",
    "\n",
    "for i in range(set_entrenamiento.shape[1]):\n",
    "    sns.distplot(set_entrenamiento.iloc[:,i], kde=False, bins=15, ax=axes[i//2, i%2])\n",
    "    sns.set_context('talk')\n",
    "plt.show"
   ]
  },
  {
   "cell_type": "code",
   "execution_count": null,
   "id": "1bd4c344-1979-42ef-81e0-b9688e539f80",
   "metadata": {},
   "outputs": [],
   "source": [
    "!"
   ]
  }
 ],
 "metadata": {
  "kernelspec": {
   "display_name": "Python 3 (ipykernel)",
   "language": "python",
   "name": "python3"
  },
  "language_info": {
   "codemirror_mode": {
    "name": "ipython",
    "version": 3
   },
   "file_extension": ".py",
   "mimetype": "text/x-python",
   "name": "python",
   "nbconvert_exporter": "python",
   "pygments_lexer": "ipython3",
   "version": "3.12.2"
  }
 },
 "nbformat": 4,
 "nbformat_minor": 5
}
